{
 "cells": [
  {
   "cell_type": "code",
   "execution_count": 2,
   "metadata": {},
   "outputs": [
    {
     "name": "stderr",
     "output_type": "stream",
     "text": [
      "/usr/local/envs/py3env/lib/python3.5/site-packages/IPython/core/interactiveshell.py:2785: DtypeWarning: Columns (56) have mixed types. Specify dtype option on import or set low_memory=False.\n",
      "  interactivity=interactivity, compiler=compiler, result=result)\n"
     ]
    }
   ],
   "source": [
    "import pandas as pd\n",
    "import numpy as np\n",
    "import matplotlib.pyplot as plt\n",
    "dataset = pd.read_csv('database_gmal1801.csv')"
   ]
  },
  {
   "cell_type": "code",
   "execution_count": 3,
   "metadata": {},
   "outputs": [],
   "source": [
    "dataset.dropna (axis=1, how='all', inplace=True)\n",
    "dataset.replace ('None', 0, regex=True, inplace=True)\n",
    "dataset.drop (columns=['Unnamed: 0', 'assettypenumber', 'primaryloanservicername'], inplace=True)"
   ]
  },
  {
   "cell_type": "code",
   "execution_count": 4,
   "metadata": {},
   "outputs": [
    {
     "data": {
      "text/html": [
       "<div>\n",
       "<style scoped>\n",
       "    .dataframe tbody tr th:only-of-type {\n",
       "        vertical-align: middle;\n",
       "    }\n",
       "\n",
       "    .dataframe tbody tr th {\n",
       "        vertical-align: top;\n",
       "    }\n",
       "\n",
       "    .dataframe thead th {\n",
       "        text-align: right;\n",
       "    }\n",
       "</style>\n",
       "<table border=\"1\" class=\"dataframe\">\n",
       "  <thead>\n",
       "    <tr style=\"text-align: right;\">\n",
       "      <th></th>\n",
       "      <th>assetnumber</th>\n",
       "      <th>reportingperiodbeginningdate</th>\n",
       "      <th>reportingperiodendingdate</th>\n",
       "      <th>originatorname</th>\n",
       "      <th>originationdate</th>\n",
       "      <th>originalloanamount</th>\n",
       "      <th>originalloanterm</th>\n",
       "      <th>loanmaturitydate</th>\n",
       "      <th>originalinterestratepercentage</th>\n",
       "      <th>interestcalculationtypecode</th>\n",
       "      <th>...</th>\n",
       "      <th>zerobalanceeffectivedate</th>\n",
       "      <th>zerobalancecode</th>\n",
       "      <th>currentdelinquencystatus</th>\n",
       "      <th>assetsubjectdemandindicator</th>\n",
       "      <th>chargedoffprincipalamount</th>\n",
       "      <th>recoveredamount</th>\n",
       "      <th>modificationtypecode</th>\n",
       "      <th>paymentextendednumber</th>\n",
       "      <th>repossessedindicator</th>\n",
       "      <th>repossessedproceedsamount</th>\n",
       "    </tr>\n",
       "  </thead>\n",
       "  <tbody>\n",
       "    <tr>\n",
       "      <th>0</th>\n",
       "      <td>0001724128 - 000001</td>\n",
       "      <td>07-01-2019</td>\n",
       "      <td>07-31-2019</td>\n",
       "      <td>GM FINANCIAL</td>\n",
       "      <td>11/2015</td>\n",
       "      <td>16477.10</td>\n",
       "      <td>73</td>\n",
       "      <td>03/2022</td>\n",
       "      <td>0.0645</td>\n",
       "      <td>1</td>\n",
       "      <td>...</td>\n",
       "      <td>NaN</td>\n",
       "      <td>NaN</td>\n",
       "      <td>7.0</td>\n",
       "      <td>False</td>\n",
       "      <td>0.0</td>\n",
       "      <td>0.0</td>\n",
       "      <td>NaN</td>\n",
       "      <td>0</td>\n",
       "      <td>False</td>\n",
       "      <td>0.0</td>\n",
       "    </tr>\n",
       "    <tr>\n",
       "      <th>1</th>\n",
       "      <td>0001724128 - 000002</td>\n",
       "      <td>07-01-2019</td>\n",
       "      <td>07-31-2019</td>\n",
       "      <td>GM FINANCIAL</td>\n",
       "      <td>11/2015</td>\n",
       "      <td>25507.47</td>\n",
       "      <td>76</td>\n",
       "      <td>10/2022</td>\n",
       "      <td>0.0280</td>\n",
       "      <td>1</td>\n",
       "      <td>...</td>\n",
       "      <td>NaN</td>\n",
       "      <td>NaN</td>\n",
       "      <td>0.0</td>\n",
       "      <td>False</td>\n",
       "      <td>0.0</td>\n",
       "      <td>0.0</td>\n",
       "      <td>NaN</td>\n",
       "      <td>0</td>\n",
       "      <td>False</td>\n",
       "      <td>0.0</td>\n",
       "    </tr>\n",
       "    <tr>\n",
       "      <th>2</th>\n",
       "      <td>0001724128 - 000005</td>\n",
       "      <td>07-01-2019</td>\n",
       "      <td>07-31-2019</td>\n",
       "      <td>GM FINANCIAL</td>\n",
       "      <td>11/2015</td>\n",
       "      <td>42746.64</td>\n",
       "      <td>61</td>\n",
       "      <td>03/2021</td>\n",
       "      <td>0.0665</td>\n",
       "      <td>1</td>\n",
       "      <td>...</td>\n",
       "      <td>NaN</td>\n",
       "      <td>NaN</td>\n",
       "      <td>11.0</td>\n",
       "      <td>False</td>\n",
       "      <td>0.0</td>\n",
       "      <td>0.0</td>\n",
       "      <td>NaN</td>\n",
       "      <td>0</td>\n",
       "      <td>False</td>\n",
       "      <td>0.0</td>\n",
       "    </tr>\n",
       "    <tr>\n",
       "      <th>3</th>\n",
       "      <td>0001724128 - 000008</td>\n",
       "      <td>07-01-2019</td>\n",
       "      <td>07-31-2019</td>\n",
       "      <td>GM FINANCIAL</td>\n",
       "      <td>11/2015</td>\n",
       "      <td>24377.86</td>\n",
       "      <td>74</td>\n",
       "      <td>04/2022</td>\n",
       "      <td>0.1080</td>\n",
       "      <td>1</td>\n",
       "      <td>...</td>\n",
       "      <td>NaN</td>\n",
       "      <td>NaN</td>\n",
       "      <td>88.0</td>\n",
       "      <td>False</td>\n",
       "      <td>0.0</td>\n",
       "      <td>0.0</td>\n",
       "      <td>NaN</td>\n",
       "      <td>0</td>\n",
       "      <td>False</td>\n",
       "      <td>0.0</td>\n",
       "    </tr>\n",
       "    <tr>\n",
       "      <th>4</th>\n",
       "      <td>0001724128 - 000009</td>\n",
       "      <td>07-01-2019</td>\n",
       "      <td>07-31-2019</td>\n",
       "      <td>GM FINANCIAL</td>\n",
       "      <td>11/2015</td>\n",
       "      <td>49155.07</td>\n",
       "      <td>74</td>\n",
       "      <td>08/2022</td>\n",
       "      <td>0.0625</td>\n",
       "      <td>1</td>\n",
       "      <td>...</td>\n",
       "      <td>NaN</td>\n",
       "      <td>NaN</td>\n",
       "      <td>16.0</td>\n",
       "      <td>False</td>\n",
       "      <td>0.0</td>\n",
       "      <td>0.0</td>\n",
       "      <td>NaN</td>\n",
       "      <td>0</td>\n",
       "      <td>False</td>\n",
       "      <td>0.0</td>\n",
       "    </tr>\n",
       "  </tbody>\n",
       "</table>\n",
       "<p>5 rows × 64 columns</p>\n",
       "</div>"
      ],
      "text/plain": [
       "           assetnumber reportingperiodbeginningdate reportingperiodendingdate  \\\n",
       "0  0001724128 - 000001                   07-01-2019                07-31-2019   \n",
       "1  0001724128 - 000002                   07-01-2019                07-31-2019   \n",
       "2  0001724128 - 000005                   07-01-2019                07-31-2019   \n",
       "3  0001724128 - 000008                   07-01-2019                07-31-2019   \n",
       "4  0001724128 - 000009                   07-01-2019                07-31-2019   \n",
       "\n",
       "  originatorname originationdate  originalloanamount  originalloanterm  \\\n",
       "0   GM FINANCIAL         11/2015            16477.10                73   \n",
       "1   GM FINANCIAL         11/2015            25507.47                76   \n",
       "2   GM FINANCIAL         11/2015            42746.64                61   \n",
       "3   GM FINANCIAL         11/2015            24377.86                74   \n",
       "4   GM FINANCIAL         11/2015            49155.07                74   \n",
       "\n",
       "  loanmaturitydate  originalinterestratepercentage  \\\n",
       "0          03/2022                          0.0645   \n",
       "1          10/2022                          0.0280   \n",
       "2          03/2021                          0.0665   \n",
       "3          04/2022                          0.1080   \n",
       "4          08/2022                          0.0625   \n",
       "\n",
       "   interestcalculationtypecode            ...              \\\n",
       "0                            1            ...               \n",
       "1                            1            ...               \n",
       "2                            1            ...               \n",
       "3                            1            ...               \n",
       "4                            1            ...               \n",
       "\n",
       "   zerobalanceeffectivedate  zerobalancecode currentdelinquencystatus  \\\n",
       "0                       NaN              NaN                      7.0   \n",
       "1                       NaN              NaN                      0.0   \n",
       "2                       NaN              NaN                     11.0   \n",
       "3                       NaN              NaN                     88.0   \n",
       "4                       NaN              NaN                     16.0   \n",
       "\n",
       "   assetsubjectdemandindicator  chargedoffprincipalamount  recoveredamount  \\\n",
       "0                        False                        0.0              0.0   \n",
       "1                        False                        0.0              0.0   \n",
       "2                        False                        0.0              0.0   \n",
       "3                        False                        0.0              0.0   \n",
       "4                        False                        0.0              0.0   \n",
       "\n",
       "   modificationtypecode paymentextendednumber repossessedindicator  \\\n",
       "0                   NaN                     0                False   \n",
       "1                   NaN                     0                False   \n",
       "2                   NaN                     0                False   \n",
       "3                   NaN                     0                False   \n",
       "4                   NaN                     0                False   \n",
       "\n",
       "   repossessedproceedsamount  \n",
       "0                        0.0  \n",
       "1                        0.0  \n",
       "2                        0.0  \n",
       "3                        0.0  \n",
       "4                        0.0  \n",
       "\n",
       "[5 rows x 64 columns]"
      ]
     },
     "execution_count": 4,
     "metadata": {},
     "output_type": "execute_result"
    }
   ],
   "source": [
    "dataset.head()"
   ]
  },
  {
   "cell_type": "code",
   "execution_count": 5,
   "metadata": {},
   "outputs": [
    {
     "data": {
      "text/plain": [
       "(1021633, 64)"
      ]
     },
     "execution_count": 5,
     "metadata": {},
     "output_type": "execute_result"
    }
   ],
   "source": [
    "dataset.shape"
   ]
  },
  {
   "cell_type": "code",
   "execution_count": 6,
   "metadata": {},
   "outputs": [],
   "source": [
    "var_factors = ['interestcalculationtypecode', 'interestcalculationtypecode', 'underwritingindicator', 'paymenttypecode',\n",
    "               'subvented', 'vehiclenewusedcode', 'vehicletypecode', 'vehiclevaluesourcecode',\n",
    "               'obligoremploymentverificationcode',\n",
    "               'obligorincomeverificationlevelcode', 'coobligorindicator', 'obligorgeographiclocation',\n",
    "               'assetaddedindicator',\n",
    "               'reportingperiodmodificationindicator', 'servicingadvancemethodcode', 'assetsubjectdemandindicator',\n",
    "               'repossessedindicator'] #'zerobalancecode'\n",
    "var_num = ['originalloanamount', 'originalloanterm', 'originalinterestratepercentage', 'vehiclevalueamount',\n",
    "              'obligorcreditscore',\n",
    "              'paymenttoincomepercentage', 'remainingtermtomaturitynumber', 'reportingperiodbeginningloanbalanceamount',\n",
    "              'nextreportingperiodpaymentamountdue',\n",
    "              'reportingperiodinterestratepercentage', 'nextinterestratepercentage', 'servicingfeepercentage',\n",
    "              'servicingflatfeeamount',\n",
    "              'otherservicerfeeretainedbyservicer', 'otherassesseduncollectedservicerfeeamount',\n",
    "              'scheduledinterestamount', 'scheduledprincipalamount',\n",
    "              'otherprincipaladjustmentamount', 'reportingperiodactualendbalanceamount',\n",
    "              'reportingperiodscheduledpaymentamount', 'totalactualamountpaid',\n",
    "              'actualinterestcollectedamount', 'actualprincipalcollectedamount', 'actualothercollectedamount',\n",
    "              'serviceradvancedamount',\n",
    "              'chargedoffprincipalamount', 'recoveredamount', 'repossessedproceedsamount']\n",
    "var = var_factors + var_num\n",
    "# Get all the column index for independent variables\n",
    "column_num = [dataset.columns.get_loc (i) for i in var]\n",
    "# Creat dependent variables\n",
    "dataset['Delinquency'] = dataset.loc[:, 'currentdelinquencystatus'] != 0\n",
    "var_drop = list(set(dataset.columns.values)-set(var))\n",
    "dataset = pd.get_dummies(dataset, columns=var_factors)"
   ]
  },
  {
   "cell_type": "code",
   "execution_count": 7,
   "metadata": {},
   "outputs": [],
   "source": [
    "X = dataset.drop (columns=var_drop)\n",
    "y = dataset['Delinquency']"
   ]
  },
  {
   "cell_type": "code",
   "execution_count": 9,
   "metadata": {},
   "outputs": [
    {
     "name": "stdout",
     "output_type": "stream",
     "text": [
      "Collecting missingpy\n",
      "  Using cached https://files.pythonhosted.org/packages/b5/be/998d04d27054b58f0974b5f09f8457778a0a72d4355e0b7ae877b6cfb850/missingpy-0.2.0-py3-none-any.whl\n",
      "Installing collected packages: missingpy\n",
      "Successfully installed missingpy-0.2.0\n"
     ]
    }
   ],
   "source": [
    "!pip install missingpy"
   ]
  },
  {
   "cell_type": "code",
   "execution_count": 11,
   "metadata": {},
   "outputs": [
    {
     "name": "stdout",
     "output_type": "stream",
     "text": [
      "Iteration: 0\n",
      "Iteration: 1\n",
      "Iteration: 2\n"
     ]
    }
   ],
   "source": [
    "from missingpy import MissForest\n",
    "imputer = MissForest()\n",
    "X_impute = imputer.fit_transform(X)"
   ]
  },
  {
   "cell_type": "code",
   "execution_count": null,
   "metadata": {},
   "outputs": [],
   "source": [
    "from sklearn.model_selection import train_test_split\n",
    "X_train, X_test, y_train, y_test = train_test_split(X, y, test_size=0.2, random_state=42)"
   ]
  },
  {
   "cell_type": "code",
   "execution_count": null,
   "metadata": {},
   "outputs": [],
   "source": [
    "X_train = X_train.values\n",
    "X_validation = X_test.values\n",
    "y_train = y_train.values\n",
    "y_validation = y_test.values"
   ]
  },
  {
   "cell_type": "code",
   "execution_count": null,
   "metadata": {},
   "outputs": [],
   "source": [
    "print('X_shapes:\\n', 'X_train:', 'X_validation:\\n', X_train.shape, X_validation.shape, '\\n')\n",
    "print('Y_shapes:\\n', 'Y_train:', 'Y_validation:\\n', y_train.shape, y_validation.shape)"
   ]
  },
  {
   "cell_type": "code",
   "execution_count": null,
   "metadata": {},
   "outputs": [],
   "source": [
    "from sklearn.model_selection import KFold\n",
    "from sklearn.model_selection import cross_val_score\n",
    "from sklearn.metrics import roc_auc_score\n",
    "from sklearn.metrics import classification_report\n",
    "from sklearn.metrics import confusion_matrix\n",
    "from sklearn.linear_model import LogisticRegression\n",
    "from sklearn.discriminant_analysis import LinearDiscriminantAnalysis\n",
    "from sklearn.tree import DecisionTreeClassifier\n",
    "from xgboost import XGBClassifier\n",
    "from sklearn.ensemble import RandomForestClassifier\n",
    "from sklearn.svm import LinearSVC"
   ]
  },
  {
   "cell_type": "code",
   "execution_count": null,
   "metadata": {},
   "outputs": [],
   "source": [
    "##Spot-Checking Algorithms\n",
    "%timeit\n",
    "models = []\n",
    "\n",
    "models.append(('LR', LogisticRegression(n_jobs=6)))\n",
    "models.append(('LDA', LinearDiscriminantAnalysis(n_jobs=6)))\n",
    "models.append(('CART', DecisionTreeClassifier(n_jobs=6)))\n",
    "models.append(('XGB', XGBClassifier(n_jobs=6)))\n",
    "models.append(('RF', RandomForestClassifier(n_jobs=6)))\n",
    "models.append(('SVM', LinearSVC(n_jobs=6)))\n",
    "\n",
    "#testing models\n",
    "\n",
    "results = []\n",
    "names = []\n",
    "\n",
    "for name, model in models:\n",
    "    kfold = KFold(n_splits=5)\n",
    "    cv_results = cross_val_score(model, X_train, y_train, cv=kfold, scoring='roc_auc')\n",
    "    results.append(cv_results)\n",
    "    names.append(name)\n",
    "    msg = '%s: %f (%f)' % (name, cv_results.mean(), cv_results.std())"
   ]
  },
  {
   "cell_type": "code",
   "execution_count": null,
   "metadata": {},
   "outputs": [],
   "source": []
  }
 ],
 "metadata": {
  "kernelspec": {
   "display_name": "Python 3",
   "language": "python",
   "name": "python3"
  }
 },
 "nbformat": 4,
 "nbformat_minor": 2
}
