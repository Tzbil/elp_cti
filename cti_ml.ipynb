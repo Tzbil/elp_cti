{
 "cells": [
  {
   "cell_type": "code",
   "execution_count": 1,
   "metadata": {},
   "outputs": [
    {
     "name": "stderr",
     "output_type": "stream",
     "text": [
      "/home/dufesweeney_gmail_com/miniconda3/lib/python3.7/site-packages/IPython/core/interactiveshell.py:3063: DtypeWarning: Columns (56) have mixed types.Specify dtype option on import or set low_memory=False.\n",
      "  interactivity=interactivity, compiler=compiler, result=result)\n"
     ]
    }
   ],
   "source": [
    "import pandas as pd\n",
    "# import numpy as np\n",
    "import matplotlib.pyplot as plt\n",
    "dataset = pd.read_csv('database_gmal1801.csv')"
   ]
  },
  {
   "cell_type": "code",
   "execution_count": 2,
   "metadata": {},
   "outputs": [],
   "source": [
    "dataset.dropna (axis=1, how='all', inplace=True)\n",
    "dataset.replace ('None', 0, regex=True, inplace=True)\n",
    "dataset.drop (columns=['Unnamed: 0', 'assettypenumber', 'primaryloanservicername'], inplace=True)"
   ]
  },
  {
   "cell_type": "code",
   "execution_count": 3,
   "metadata": {},
   "outputs": [
    {
     "data": {
      "text/html": [
       "<div>\n",
       "<style scoped>\n",
       "    .dataframe tbody tr th:only-of-type {\n",
       "        vertical-align: middle;\n",
       "    }\n",
       "\n",
       "    .dataframe tbody tr th {\n",
       "        vertical-align: top;\n",
       "    }\n",
       "\n",
       "    .dataframe thead th {\n",
       "        text-align: right;\n",
       "    }\n",
       "</style>\n",
       "<table border=\"1\" class=\"dataframe\">\n",
       "  <thead>\n",
       "    <tr style=\"text-align: right;\">\n",
       "      <th></th>\n",
       "      <th>assetnumber</th>\n",
       "      <th>reportingperiodbeginningdate</th>\n",
       "      <th>reportingperiodendingdate</th>\n",
       "      <th>originatorname</th>\n",
       "      <th>originationdate</th>\n",
       "      <th>originalloanamount</th>\n",
       "      <th>originalloanterm</th>\n",
       "      <th>loanmaturitydate</th>\n",
       "      <th>originalinterestratepercentage</th>\n",
       "      <th>interestcalculationtypecode</th>\n",
       "      <th>...</th>\n",
       "      <th>zerobalanceeffectivedate</th>\n",
       "      <th>zerobalancecode</th>\n",
       "      <th>currentdelinquencystatus</th>\n",
       "      <th>assetsubjectdemandindicator</th>\n",
       "      <th>chargedoffprincipalamount</th>\n",
       "      <th>recoveredamount</th>\n",
       "      <th>modificationtypecode</th>\n",
       "      <th>paymentextendednumber</th>\n",
       "      <th>repossessedindicator</th>\n",
       "      <th>repossessedproceedsamount</th>\n",
       "    </tr>\n",
       "  </thead>\n",
       "  <tbody>\n",
       "    <tr>\n",
       "      <th>0</th>\n",
       "      <td>0001724128 - 000001</td>\n",
       "      <td>07-01-2019</td>\n",
       "      <td>07-31-2019</td>\n",
       "      <td>GM FINANCIAL</td>\n",
       "      <td>11/2015</td>\n",
       "      <td>16477.10</td>\n",
       "      <td>73</td>\n",
       "      <td>03/2022</td>\n",
       "      <td>0.0645</td>\n",
       "      <td>1</td>\n",
       "      <td>...</td>\n",
       "      <td>NaN</td>\n",
       "      <td>NaN</td>\n",
       "      <td>7.0</td>\n",
       "      <td>False</td>\n",
       "      <td>0.0</td>\n",
       "      <td>0.0</td>\n",
       "      <td>NaN</td>\n",
       "      <td>0</td>\n",
       "      <td>False</td>\n",
       "      <td>0.0</td>\n",
       "    </tr>\n",
       "    <tr>\n",
       "      <th>1</th>\n",
       "      <td>0001724128 - 000002</td>\n",
       "      <td>07-01-2019</td>\n",
       "      <td>07-31-2019</td>\n",
       "      <td>GM FINANCIAL</td>\n",
       "      <td>11/2015</td>\n",
       "      <td>25507.47</td>\n",
       "      <td>76</td>\n",
       "      <td>10/2022</td>\n",
       "      <td>0.0280</td>\n",
       "      <td>1</td>\n",
       "      <td>...</td>\n",
       "      <td>NaN</td>\n",
       "      <td>NaN</td>\n",
       "      <td>0.0</td>\n",
       "      <td>False</td>\n",
       "      <td>0.0</td>\n",
       "      <td>0.0</td>\n",
       "      <td>NaN</td>\n",
       "      <td>0</td>\n",
       "      <td>False</td>\n",
       "      <td>0.0</td>\n",
       "    </tr>\n",
       "    <tr>\n",
       "      <th>2</th>\n",
       "      <td>0001724128 - 000005</td>\n",
       "      <td>07-01-2019</td>\n",
       "      <td>07-31-2019</td>\n",
       "      <td>GM FINANCIAL</td>\n",
       "      <td>11/2015</td>\n",
       "      <td>42746.64</td>\n",
       "      <td>61</td>\n",
       "      <td>03/2021</td>\n",
       "      <td>0.0665</td>\n",
       "      <td>1</td>\n",
       "      <td>...</td>\n",
       "      <td>NaN</td>\n",
       "      <td>NaN</td>\n",
       "      <td>11.0</td>\n",
       "      <td>False</td>\n",
       "      <td>0.0</td>\n",
       "      <td>0.0</td>\n",
       "      <td>NaN</td>\n",
       "      <td>0</td>\n",
       "      <td>False</td>\n",
       "      <td>0.0</td>\n",
       "    </tr>\n",
       "    <tr>\n",
       "      <th>3</th>\n",
       "      <td>0001724128 - 000008</td>\n",
       "      <td>07-01-2019</td>\n",
       "      <td>07-31-2019</td>\n",
       "      <td>GM FINANCIAL</td>\n",
       "      <td>11/2015</td>\n",
       "      <td>24377.86</td>\n",
       "      <td>74</td>\n",
       "      <td>04/2022</td>\n",
       "      <td>0.1080</td>\n",
       "      <td>1</td>\n",
       "      <td>...</td>\n",
       "      <td>NaN</td>\n",
       "      <td>NaN</td>\n",
       "      <td>88.0</td>\n",
       "      <td>False</td>\n",
       "      <td>0.0</td>\n",
       "      <td>0.0</td>\n",
       "      <td>NaN</td>\n",
       "      <td>0</td>\n",
       "      <td>False</td>\n",
       "      <td>0.0</td>\n",
       "    </tr>\n",
       "    <tr>\n",
       "      <th>4</th>\n",
       "      <td>0001724128 - 000009</td>\n",
       "      <td>07-01-2019</td>\n",
       "      <td>07-31-2019</td>\n",
       "      <td>GM FINANCIAL</td>\n",
       "      <td>11/2015</td>\n",
       "      <td>49155.07</td>\n",
       "      <td>74</td>\n",
       "      <td>08/2022</td>\n",
       "      <td>0.0625</td>\n",
       "      <td>1</td>\n",
       "      <td>...</td>\n",
       "      <td>NaN</td>\n",
       "      <td>NaN</td>\n",
       "      <td>16.0</td>\n",
       "      <td>False</td>\n",
       "      <td>0.0</td>\n",
       "      <td>0.0</td>\n",
       "      <td>NaN</td>\n",
       "      <td>0</td>\n",
       "      <td>False</td>\n",
       "      <td>0.0</td>\n",
       "    </tr>\n",
       "  </tbody>\n",
       "</table>\n",
       "<p>5 rows × 64 columns</p>\n",
       "</div>"
      ],
      "text/plain": [
       "           assetnumber reportingperiodbeginningdate reportingperiodendingdate  \\\n",
       "0  0001724128 - 000001                   07-01-2019                07-31-2019   \n",
       "1  0001724128 - 000002                   07-01-2019                07-31-2019   \n",
       "2  0001724128 - 000005                   07-01-2019                07-31-2019   \n",
       "3  0001724128 - 000008                   07-01-2019                07-31-2019   \n",
       "4  0001724128 - 000009                   07-01-2019                07-31-2019   \n",
       "\n",
       "  originatorname originationdate  originalloanamount  originalloanterm  \\\n",
       "0   GM FINANCIAL         11/2015            16477.10                73   \n",
       "1   GM FINANCIAL         11/2015            25507.47                76   \n",
       "2   GM FINANCIAL         11/2015            42746.64                61   \n",
       "3   GM FINANCIAL         11/2015            24377.86                74   \n",
       "4   GM FINANCIAL         11/2015            49155.07                74   \n",
       "\n",
       "  loanmaturitydate  originalinterestratepercentage  \\\n",
       "0          03/2022                          0.0645   \n",
       "1          10/2022                          0.0280   \n",
       "2          03/2021                          0.0665   \n",
       "3          04/2022                          0.1080   \n",
       "4          08/2022                          0.0625   \n",
       "\n",
       "   interestcalculationtypecode  ...  zerobalanceeffectivedate  \\\n",
       "0                            1  ...                       NaN   \n",
       "1                            1  ...                       NaN   \n",
       "2                            1  ...                       NaN   \n",
       "3                            1  ...                       NaN   \n",
       "4                            1  ...                       NaN   \n",
       "\n",
       "   zerobalancecode currentdelinquencystatus  assetsubjectdemandindicator  \\\n",
       "0              NaN                      7.0                        False   \n",
       "1              NaN                      0.0                        False   \n",
       "2              NaN                     11.0                        False   \n",
       "3              NaN                     88.0                        False   \n",
       "4              NaN                     16.0                        False   \n",
       "\n",
       "   chargedoffprincipalamount  recoveredamount  modificationtypecode  \\\n",
       "0                        0.0              0.0                   NaN   \n",
       "1                        0.0              0.0                   NaN   \n",
       "2                        0.0              0.0                   NaN   \n",
       "3                        0.0              0.0                   NaN   \n",
       "4                        0.0              0.0                   NaN   \n",
       "\n",
       "  paymentextendednumber repossessedindicator  repossessedproceedsamount  \n",
       "0                     0                False                        0.0  \n",
       "1                     0                False                        0.0  \n",
       "2                     0                False                        0.0  \n",
       "3                     0                False                        0.0  \n",
       "4                     0                False                        0.0  \n",
       "\n",
       "[5 rows x 64 columns]"
      ]
     },
     "execution_count": 3,
     "metadata": {},
     "output_type": "execute_result"
    }
   ],
   "source": [
    "dataset.head()"
   ]
  },
  {
   "cell_type": "code",
   "execution_count": 4,
   "metadata": {},
   "outputs": [
    {
     "data": {
      "text/plain": [
       "(1021633, 64)"
      ]
     },
     "execution_count": 4,
     "metadata": {},
     "output_type": "execute_result"
    }
   ],
   "source": [
    "dataset.shape"
   ]
  },
  {
   "cell_type": "code",
   "execution_count": 5,
   "metadata": {},
   "outputs": [],
   "source": [
    "var_factors = ['interestcalculationtypecode', 'interestcalculationtypecode', 'underwritingindicator', 'paymenttypecode',\n",
    "               'subvented', 'vehiclenewusedcode', 'vehicletypecode', 'vehiclevaluesourcecode',\n",
    "               'obligoremploymentverificationcode',\n",
    "               'obligorincomeverificationlevelcode', 'coobligorindicator', 'obligorgeographiclocation',\n",
    "               'assetaddedindicator',\n",
    "               'reportingperiodmodificationindicator', 'servicingadvancemethodcode', 'assetsubjectdemandindicator',\n",
    "               'repossessedindicator']\n",
    "var_num = ['originalloanamount', 'originalloanterm', 'originalinterestratepercentage', 'vehiclevalueamount',\n",
    "              'obligorcreditscore',\n",
    "              'paymenttoincomepercentage', 'remainingtermtomaturitynumber', 'reportingperiodbeginningloanbalanceamount',\n",
    "              'nextreportingperiodpaymentamountdue',\n",
    "              'reportingperiodinterestratepercentage', 'nextinterestratepercentage', 'servicingfeepercentage',\n",
    "              'servicingflatfeeamount',\n",
    "              'otherservicerfeeretainedbyservicer', 'otherassesseduncollectedservicerfeeamount',\n",
    "              'scheduledinterestamount', 'scheduledprincipalamount',\n",
    "              'otherprincipaladjustmentamount', 'reportingperiodactualendbalanceamount',\n",
    "              'reportingperiodscheduledpaymentamount', 'totalactualamountpaid',\n",
    "              'actualinterestcollectedamount', 'actualprincipalcollectedamount', 'actualothercollectedamount',\n",
    "              'serviceradvancedamount',\n",
    "              'chargedoffprincipalamount', 'recoveredamount', 'repossessedproceedsamount']\n",
    "var = var_factors + var_num\n",
    "# Get all the column index for independent variables\n",
    "column_num = [dataset.columns.get_loc (i) for i in var]\n",
    "# Creat dependent variables\n",
    "dataset['Delinquency'] = dataset.loc[:, 'currentdelinquencystatus'] != 0\n",
    "var_drop = list(set(dataset.columns.values)-set(var))\n",
    "dataset = pd.get_dummies(dataset, columns=var_factors)"
   ]
  },
  {
   "cell_type": "code",
   "execution_count": 6,
   "metadata": {},
   "outputs": [],
   "source": [
    "X = dataset.drop (columns=var_drop)\n",
    "y = dataset['Delinquency']"
   ]
  },
  {
   "cell_type": "code",
   "execution_count": 7,
   "metadata": {},
   "outputs": [
    {
     "data": {
      "text/plain": [
       "(1021633, 115)"
      ]
     },
     "execution_count": 7,
     "metadata": {},
     "output_type": "execute_result"
    }
   ],
   "source": [
    "X.shape"
   ]
  },
  {
   "cell_type": "code",
   "execution_count": 8,
   "metadata": {},
   "outputs": [],
   "source": [
    "X_na = X.loc[:, X.isna().any()]"
   ]
  },
  {
   "cell_type": "code",
   "execution_count": 9,
   "metadata": {},
   "outputs": [
    {
     "name": "stderr",
     "output_type": "stream",
     "text": [
      "/home/dufesweeney_gmail_com/miniconda3/lib/python3.7/site-packages/sklearn/utils/deprecation.py:144: FutureWarning: The sklearn.neighbors.base module is  deprecated in version 0.22 and will be removed in version 0.24. The corresponding classes / functions should instead be imported from sklearn.neighbors. Anything that cannot be imported from sklearn.neighbors is now part of the private API.\n",
      "  warnings.warn(message, FutureWarning)\n"
     ]
    },
    {
     "name": "stdout",
     "output_type": "stream",
     "text": [
      "Iteration: 0\n",
      "Iteration: 1\n",
      "Iteration: 2\n",
      "Iteration: 3\n",
      "Iteration: 4\n"
     ]
    }
   ],
   "source": [
    "from missingpy import MissForest\n",
    "imputer = MissForest()\n",
    "X_impute = imputer.fit_transform(X_na)"
   ]
  },
  {
   "cell_type": "code",
   "execution_count": 10,
   "metadata": {},
   "outputs": [],
   "source": [
    "X_impute = pd.DataFrame(X_impute, columns=list(X_na.columns.values))"
   ]
  },
  {
   "cell_type": "code",
   "execution_count": 11,
   "metadata": {},
   "outputs": [
    {
     "name": "stderr",
     "output_type": "stream",
     "text": [
      "/home/dufesweeney_gmail_com/miniconda3/lib/python3.7/site-packages/pandas/core/frame.py:5732: SettingWithCopyWarning: \n",
      "A value is trying to be set on a copy of a slice from a DataFrame.\n",
      "Try using .loc[row_indexer,col_indexer] = value instead\n",
      "\n",
      "See the caveats in the documentation: https://pandas.pydata.org/pandas-docs/stable/user_guide/indexing.html#returning-a-view-versus-a-copy\n",
      "  self[col] = expressions.where(mask, this, that)\n"
     ]
    }
   ],
   "source": [
    "X.update(X_impute)"
   ]
  },
  {
   "cell_type": "code",
   "execution_count": 12,
   "metadata": {},
   "outputs": [],
   "source": [
    "from sklearn.model_selection import train_test_split\n",
    "X_train, X_test, y_train, y_test = train_test_split(X, y, test_size=0.2, random_state=42)"
   ]
  },
  {
   "cell_type": "code",
   "execution_count": 13,
   "metadata": {},
   "outputs": [],
   "source": [
    "X_train = X_train.values\n",
    "X_validation = X_test.values\n",
    "y_train = y_train.values\n",
    "y_validation = y_test.values"
   ]
  },
  {
   "cell_type": "code",
   "execution_count": 14,
   "metadata": {},
   "outputs": [
    {
     "name": "stdout",
     "output_type": "stream",
     "text": [
      "X_shapes:\n",
      " X_train: X_validation:\n",
      " (817306, 115) (204327, 115) \n",
      "\n",
      "Y_shapes:\n",
      " Y_train: Y_validation:\n",
      " (817306,) (204327,)\n"
     ]
    }
   ],
   "source": [
    "print('X_shapes:\\n', 'X_train:', 'X_validation:\\n', X_train.shape, X_validation.shape, '\\n')\n",
    "print('Y_shapes:\\n', 'Y_train:', 'Y_validation:\\n', y_train.shape, y_validation.shape)"
   ]
  },
  {
   "cell_type": "code",
   "execution_count": 15,
   "metadata": {},
   "outputs": [],
   "source": [
    "from sklearn.model_selection import KFold\n",
    "from sklearn.model_selection import cross_val_score\n",
    "from sklearn.metrics import roc_auc_score\n",
    "from sklearn.metrics import classification_report\n",
    "from sklearn.metrics import confusion_matrix\n",
    "from sklearn.linear_model import LogisticRegression\n",
    "from sklearn.discriminant_analysis import LinearDiscriminantAnalysis\n",
    "from sklearn.tree import DecisionTreeClassifier\n",
    "from xgboost import XGBClassifier\n",
    "from sklearn.ensemble import RandomForestClassifier\n",
    "from sklearn.svm import LinearSVC"
   ]
  },
  {
   "cell_type": "code",
   "execution_count": 16,
   "metadata": {},
   "outputs": [],
   "source": [
    "##Spot-Checking Algorithms\n",
    "%timeit\n",
    "models = []\n",
    "\n",
    "models.append(('LR', LogisticRegression(n_jobs=8)))\n",
    "models.append(('LDA', LinearDiscriminantAnalysis()))\n",
    "models.append(('CART', DecisionTreeClassifier()))\n",
    "models.append(('XGB', XGBClassifier(n_jobs=8)))\n",
    "models.append(('RF', RandomForestClassifier(n_jobs=8)))"
   ]
  },
  {
   "cell_type": "code",
   "execution_count": 17,
   "metadata": {},
   "outputs": [
    {
     "name": "stdout",
     "output_type": "stream",
     "text": [
      "LR: 0.962523 (0.000996)\n",
      "LDA: 0.967074 (0.001393)\n",
      "CART: 0.995067 (0.000341)\n",
      "XGB: 0.999925 (0.000031)\n",
      "RF: 0.999762 (0.000037)\n"
     ]
    }
   ],
   "source": [
    "#testing models\n",
    "\n",
    "results = []\n",
    "names = []\n",
    "\n",
    "for name, model in models:\n",
    "    kfold = KFold(n_splits=5)\n",
    "    cv_results = cross_val_score(model, X_train, y_train, cv=kfold, scoring='roc_auc')\n",
    "    results.append(cv_results)\n",
    "    names.append(name)\n",
    "    msg = '%s: %f (%f)' % (name, cv_results.mean(), cv_results.std())\n",
    "    print(msg)"
   ]
  },
  {
   "cell_type": "code",
   "execution_count": 18,
   "metadata": {},
   "outputs": [
    {
     "data": {
      "image/png": "[encoded data removed]",
      "text/plain": [
       "<Figure size 864x720 with 1 Axes>"
      ]
     },
     "metadata": {
      "needs_background": "light"
     },
     "output_type": "display_data"
    }
   ],
   "source": [
    "#Compare Algorithms\n",
    "\n",
    "fig, ax = plt.subplots(figsize=(12, 10))\n",
    "plt.title('Comparison of Classification Algorithms')\n",
    "plt.xlabel('Algorithm')\n",
    "plt.ylabel('ROC-AUC Score')\n",
    "plt.boxplot(results)\n",
    "ax.set_xticklabels(names)\n",
    "plt.show()"
   ]
  },
  {
   "cell_type": "code",
   "execution_count": 19,
   "metadata": {},
   "outputs": [
    {
     "data": {
      "text/plain": [
       "XGBClassifier(base_score=0.5, booster=None, colsample_bylevel=1,\n",
       "              colsample_bynode=1, colsample_bytree=1, gamma=0, gpu_id=-1,\n",
       "              importance_type='gain', interaction_constraints=None,\n",
       "              learning_rate=0.300000012, max_delta_step=0, max_depth=6,\n",
       "              min_child_weight=1, missing=nan, monotone_constraints=None,\n",
       "              n_estimators=100, n_jobs=8, num_parallel_tree=1,\n",
       "              objective='binary:logistic', random_state=0, reg_alpha=0,\n",
       "              reg_lambda=1, scale_pos_weight=1, subsample=1, tree_method=None,\n",
       "              validate_parameters=False, verbosity=None)"
      ]
     },
     "execution_count": 19,
     "metadata": {},
     "output_type": "execute_result"
    }
   ],
   "source": [
    "xgb = XGBClassifier(n_jobs=8)\n",
    "xgb.fit(X_train, y_train)"
   ]
  },
  {
   "cell_type": "code",
   "execution_count": 20,
   "metadata": {},
   "outputs": [
    {
     "name": "stdout",
     "output_type": "stream",
     "text": [
      "Predicted    False  True \n",
      "Actual                   \n",
      "False       190574     45\n",
      "True            58  13650\n"
     ]
    }
   ],
   "source": [
    "X_test = X_test.values\n",
    "preds = xgb.predict(X_test)\n",
    "print(pd.crosstab(y_test, preds, rownames=['Actual '], colnames=['Predicted ']))"
   ]
  },
  {
   "cell_type": "code",
   "execution_count": 21,
   "metadata": {},
   "outputs": [],
   "source": [
    "# import joblib\n",
    "\n",
    "# # Save to file in the current working directory\n",
    "# joblib_file = \"XGBoost.pkl\"\n",
    "# joblib.dump(xgb, joblib_file)\n",
    "\n",
    "# # Load from file\n",
    "# joblib_model = joblib.load(joblib_file)\n",
    "\n",
    "# # Calculate the accuracy and predictions\n",
    "# score = joblib_model.score(Xtest, Ytest)\n",
    "# print(\"Test score: {0:.2f} %\".format(100 * score))\n",
    "# Ypredict = pickle_model.predict(Xtest)"
   ]
  },
  {
   "cell_type": "code",
   "execution_count": 22,
   "metadata": {},
   "outputs": [
    {
     "name": "stdout",
     "output_type": "stream",
     "text": [
      "              precision    recall  f1-score   support\n",
      "\n",
      "       False       1.00      1.00      1.00    190619\n",
      "        True       1.00      1.00      1.00     13708\n",
      "\n",
      "    accuracy                           1.00    204327\n",
      "   macro avg       1.00      1.00      1.00    204327\n",
      "weighted avg       1.00      1.00      1.00    204327\n",
      "\n"
     ]
    }
   ],
   "source": [
    "from sklearn.metrics import classification_report\n",
    "print(classification_report(y_test, preds))"
   ]
  },
  {
   "cell_type": "code",
   "execution_count": 23,
   "metadata": {},
   "outputs": [],
   "source": [
    "from sklearn.metrics import roc_curve"
   ]
  },
  {
   "cell_type": "code",
   "execution_count": 25,
   "metadata": {},
   "outputs": [
    {
     "data": {
      "image/png": "[encoded data removed]",
      "text/plain": [
       "<Figure size 432x288 with 1 Axes>"
      ]
     },
     "metadata": {
      "needs_background": "light"
     },
     "output_type": "display_data"
    }
   ],
   "source": [
    "random_roc_auc = roc_auc_score(y_test, xgb.predict(X_test))\n",
    "random_fpr, random_tpr, random_thresholds = roc_curve(y_test, xgb.predict_proba(X_test)[:,1])\n",
    "plt.figure()\n",
    "plt.plot(random_fpr, random_tpr, label='XGBoost (area = %0.2f)' % random_roc_auc)\n",
    "plt.plot([0, 1], [0, 1],'r--')\n",
    "plt.xlim([0.0, 1.0])\n",
    "plt.ylim([0.0, 1.05])\n",
    "plt.xlabel('False Positive Rate')\n",
    "plt.ylabel('True Positive Rate')\n",
    "plt.title('Receiver operating characteristic')\n",
    "plt.legend(loc=\"lower right\")\n",
    "plt.savefig('Log_ROC')\n",
    "plt.show()"
   ]
  },
  {
   "cell_type": "code",
   "execution_count": 32,
   "metadata": {},
   "outputs": [],
   "source": [
    "importance_df = pd.DataFrame(list(zip(X, xgb.feature_importances_)), columns=['Features', 'Importances'])\n",
    "importance_df = importance_df.sort_values(by=['Importances'], ascending=False)\n",
    "plot_importance = importance_df.head(10)"
   ]
  },
  {
   "cell_type": "code",
   "execution_count": 33,
   "metadata": {},
   "outputs": [
    {
     "data": {
      "image/png": "[encoded data removed]",
      "text/plain": [
       "<Figure size 648x432 with 1 Axes>"
      ]
     },
     "metadata": {
      "needs_background": "light"
     },
     "output_type": "display_data"
    }
   ],
   "source": [
    "fig, ax = plt.subplots(figsize=(9, 6))\n",
    "plt.bar(x=plot_importance['Features'], height=plot_importance['Importances'])\n",
    "plt.xticks(rotation=90)\n",
    "plt.show()"
   ]
  },
  {
   "cell_type": "code",
   "execution_count": 34,
   "metadata": {},
   "outputs": [
    {
     "name": "stdout",
     "output_type": "stream",
     "text": [
      "Predicted    False  True \n",
      "Actual                   \n",
      "False       190525     94\n",
      "True           130  13578\n"
     ]
    }
   ],
   "source": [
    "cart = DecisionTreeClassifier()\n",
    "cart.fit(X_train, y_train)\n",
    "preds = cart.predict(X_test)\n",
    "print(pd.crosstab(y_test, preds, rownames=['Actual '], colnames=['Predicted ']))"
   ]
  },
  {
   "cell_type": "code",
   "execution_count": 35,
   "metadata": {},
   "outputs": [],
   "source": [
    "# # Save to file in the current working directory\n",
    "# joblib_file = \"CART.pkl\"\n",
    "# joblib.dump(cart, joblib_file)"
   ]
  },
  {
   "cell_type": "code",
   "execution_count": 36,
   "metadata": {},
   "outputs": [
    {
     "name": "stdout",
     "output_type": "stream",
     "text": [
      "              precision    recall  f1-score   support\n",
      "\n",
      "       False       1.00      1.00      1.00    190619\n",
      "        True       0.99      0.99      0.99     13708\n",
      "\n",
      "    accuracy                           1.00    204327\n",
      "   macro avg       1.00      1.00      1.00    204327\n",
      "weighted avg       1.00      1.00      1.00    204327\n",
      "\n"
     ]
    }
   ],
   "source": [
    "print(classification_report(y_test, preds))"
   ]
  },
  {
   "cell_type": "code",
   "execution_count": 37,
   "metadata": {},
   "outputs": [
    {
     "data": {
      "image/png": "[encoded data removed]",
      "text/plain": [
       "<Figure size 432x288 with 1 Axes>"
      ]
     },
     "metadata": {
      "needs_background": "light"
     },
     "output_type": "display_data"
    }
   ],
   "source": [
    "random_roc_auc = roc_auc_score(y_test, cart.predict(X_test))\n",
    "random_fpr, random_tpr, random_thresholds = roc_curve(y_test, cart.predict_proba(X_test)[:,1])\n",
    "plt.figure()\n",
    "plt.plot(random_fpr, random_tpr, label='Decision Tree (area = %0.2f)' % random_roc_auc)\n",
    "plt.plot([0, 1], [0, 1],'r--')\n",
    "plt.xlim([0.0, 1.0])\n",
    "plt.ylim([0.0, 1.05])\n",
    "plt.xlabel('False Positive Rate')\n",
    "plt.ylabel('True Positive Rate')\n",
    "plt.title('Receiver operating characteristic')\n",
    "plt.legend(loc=\"lower right\")\n",
    "plt.savefig('Log_ROC')\n",
    "plt.show()"
   ]
  },
  {
   "cell_type": "code",
   "execution_count": 38,
   "metadata": {},
   "outputs": [],
   "source": [
    "importance_df = pd.DataFrame(list(zip(X, cart.feature_importances_)), columns=['Features', 'Importances'])\n",
    "importance_df = importance_df.sort_values(by=['Importances'], ascending=False)\n",
    "plot_importance = importance_df.head(10)"
   ]
  },
  {
   "cell_type": "code",
   "execution_count": 39,
   "metadata": {},
   "outputs": [
    {
     "data": {
      "image/png": "[encoded data removed]",
      "text/plain": [
       "<Figure size 648x432 with 1 Axes>"
      ]
     },
     "metadata": {
      "needs_background": "light"
     },
     "output_type": "display_data"
    }
   ],
   "source": [
    "fig, ax = plt.subplots(figsize=(9, 6))\n",
    "plt.bar(x=plot_importance['Features'], height=plot_importance['Importances'])\n",
    "plt.xticks(rotation=90)\n",
    "plt.show()"
   ]
  },
  {
   "cell_type": "code",
   "execution_count": null,
   "metadata": {},
   "outputs": [],
   "source": [
    "RF = RandomForestClassifier(n_jobs=8)\n",
    "RF.fit(X_train, y_train)\n",
    "\n",
    "preds = RF.predict(X_test)\n",
    "print(pd.crosstab(y_test.values.flatten(), preds, rownames=['Actual '], colnames=['Predicted ']))"
   ]
  },
  {
   "cell_type": "code",
   "execution_count": null,
   "metadata": {},
   "outputs": [],
   "source": [
    "# # Save to file in the current working directory\n",
    "# joblib_file = \"RandomForest.pkl\"\n",
    "# joblib.dump(RF, joblib_file)"
   ]
  },
  {
   "cell_type": "code",
   "execution_count": null,
   "metadata": {},
   "outputs": [],
   "source": [
    "print(classification_report(y_test, preds))"
   ]
  },
  {
   "cell_type": "code",
   "execution_count": null,
   "metadata": {},
   "outputs": [],
   "source": [
    "random_roc_auc = roc_auc_score(y_test, RF.predict(X_test))\n",
    "random_fpr, random_tpr, random_thresholds = roc_curve(y_test, RF.predict_proba(X_test)[:,1])\n",
    "plt.figure()\n",
    "plt.plot(random_fpr, random_tpr, label='Random Forest (area = %0.2f)' % random_roc_auc)\n",
    "plt.plot([0, 1], [0, 1],'r--')\n",
    "plt.xlim([0.0, 1.0])\n",
    "plt.ylim([0.0, 1.05])\n",
    "plt.xlabel('False Positive Rate')\n",
    "plt.ylabel('True Positive Rate')\n",
    "plt.title('Receiver operating characteristic')\n",
    "plt.legend(loc=\"lower right\")\n",
    "plt.savefig('Log_ROC')\n",
    "plt.show()"
   ]
  },
  {
   "cell_type": "code",
   "execution_count": null,
   "metadata": {},
   "outputs": [],
   "source": [
    "importance_df = pd.DataFrame(list(zip(X, RF.feature_importances_)), columns=['Features', 'Importances'])\n",
    "importance_df = importance_df.sort_values(by=['Importances'], ascending=False)\n",
    "plot_importance = importance_df.head(10)"
   ]
  },
  {
   "cell_type": "code",
   "execution_count": null,
   "metadata": {},
   "outputs": [],
   "source": [
    "importance_df.head(20)"
   ]
  },
  {
   "cell_type": "code",
   "execution_count": null,
   "metadata": {},
   "outputs": [],
   "source": [
    "fig, ax = plt.subplots(figsize=(9, 6))\n",
    "plt.bar(x=plot_importance['Features'], height=plot_importance['Importances'])\n",
    "plt.xticks(rotation=90)\n",
    "plt.show()"
   ]
  },
  {
   "cell_type": "code",
   "execution_count": null,
   "metadata": {},
   "outputs": [],
   "source": [
    "# df = pd.DataFrame(X_impute, columns=list(X.columns.values))\n",
    "# df.loc[:, 'Delinquency'] = y.values\n",
    "# df.to_csv(\"database_gmal1801_impute.csv\")"
   ]
  },
  {
   "cell_type": "code",
   "execution_count": null,
   "metadata": {},
   "outputs": [],
   "source": [
    "# X_test.loc[:, X_test.columns.duplicated()].head()\n",
    "# df = X_test['interestcalculationtypecode_1'] # duplicated column\n",
    "# import numpy as np\n",
    "# np.where(df.iloc[:,0] != df.iloc[:,1])"
   ]
  },
  {
   "cell_type": "code",
   "execution_count": null,
   "metadata": {},
   "outputs": [],
   "source": []
  }
 ],
 "metadata": {
  "kernelspec": {
   "display_name": "Python 3",
   "language": "python",
   "name": "python3"
  },
  "language_info": {
   "codemirror_mode": {
    "name": "ipython",
    "version": 3
   },
   "file_extension": ".py",
   "mimetype": "text/x-python",
   "name": "python",
   "nbconvert_exporter": "python",
   "pygments_lexer": "ipython3",
   "version": "3.7.4"
  }
 },
 "nbformat": 4,
 "nbformat_minor": 2
}
